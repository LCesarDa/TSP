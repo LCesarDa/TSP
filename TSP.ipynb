{
  "nbformat": 4,
  "nbformat_minor": 0,
  "metadata": {
    "colab": {
      "provenance": []
    },
    "kernelspec": {
      "name": "python3",
      "display_name": "Python 3"
    },
    "language_info": {
      "name": "python"
    }
  },
  "cells": [
    {
      "cell_type": "code",
      "execution_count": 40,
      "metadata": {
        "id": "OatpMTOqEBvj"
      },
      "outputs": [],
      "source": [
        "# Define the graph as a dictionary of dictionaries, where each key\n",
        "# represents a city, and its value is another dictionary with the\n",
        "# neighboring cities and their weights for each weight type\n",
        "graph = {\n",
        "    'Barcelona': {'Madrid': {'time': 2.5, 'cost': 98}, 'Lyon': {'time': 3.33, 'cost': 320}, 'Paris': {'time': 6.5, 'cost': 400}},\n",
        "    'Madrid': {'Barcelona': {'time': 2.5, 'cost': 98}, 'Paris': {'time': 3.75, 'cost': 380}},\n",
        "    'Lyon': {'Barcelona': {'time': 3.33, 'cost': 320}, 'Paris': {'time': 1.87, 'cost': 185}, 'Milan': {'time': 2.93, 'cost': 180}},\n",
        "    'Paris': {'Barcelona': {'time': 6.5, 'cost': 400}, 'Madrid': {'time': 3.75, 'cost': 380}, 'Lyon': {'time': 1.87, 'cost': 185}, \n",
        "              'Frankfurt': {'time': 8, 'cost': 345}, 'Brussels': {'time': 1.36, 'cost': 80}, 'London': {'time': 2.26, 'cost': 98}},\n",
        "    'Milan': {'Lyon': {'time': 2.93, 'cost': 180}, 'Rome': {'time': 2.8, 'cost': 125}, 'Frankfurt': {'time': 7.56, 'cost': 240}},\n",
        "    'Frankfurt': {'Paris': {'time': 8, 'cost': 345}, 'Milan': {'time': 7.56, 'cost': 240}, 'Berlin': {'time': 3.87, 'cost': 125}, 'Cologne': {'time': 2, 'cost': 40}},\n",
        "    'Brussels': {'Paris': {'time': 1.36, 'cost': 80}, 'London': {'time': 2.26, 'cost': 98}, 'Amsterdam': {'time': 1.75, 'cost': 48}},\n",
        "    'London': {'Paris': {'time': 2.26, 'cost': 98}, 'Brussels': {'time': 2.26, 'cost': 98}},\n",
        "    'Rome': {'Milan': {'time': 2.8, 'cost': 125}},\n",
        "    'Berlin': {'Frankfurt': {'time': 3.67, 'cost': 125}, 'Amsterdam': {'time': 6, 'cost': 235}},\n",
        "    'Cologne': {'Frankfurt': {'time': 2, 'cost': 40}, 'Amsterdam': {'time': 2, 'cost': 40}},\n",
        "    'Amsterdam': {'Brussels': {'time': 1.75, 'cost': 48}, 'Berlin': {'time': 6, 'cost': 235}, 'Cologne': {'time': 2, 'cost': 40}},\n",
        "}\n",
        "\n",
        "# List of cities, which will be used to generate solutions\n",
        "cities = list(graph.keys())\n"
      ]
    },
    {
      "cell_type": "code",
      "source": [
        "import random\n",
        "\n",
        "def generate_population(graph, population_size):\n",
        "    cities = list(graph.keys())\n",
        "    population = []\n",
        "    for i in range(population_size):\n",
        "        # Start at a random city\n",
        "        current_city = random.choice(cities)\n",
        "        tour = [current_city]\n",
        "        unvisited_cities = set(cities) - {current_city}\n",
        "\n",
        "        # Visit neighboring cities in random order\n",
        "        while unvisited_cities:\n",
        "            neighbors = graph[current_city]\n",
        "            unvisited_neighbors = [n for n in neighbors if n in unvisited_cities]\n",
        "            if not unvisited_neighbors:\n",
        "                # If all neighbors have been visited, return to a previously visited city\n",
        "                unvisited_neighbors = [n for n in neighbors if n in tour]\n",
        "            next_city = random.choice(unvisited_neighbors)\n",
        "            tour.append(next_city)\n",
        "            if next_city in unvisited_cities:\n",
        "              unvisited_cities.remove(next_city)\n",
        "            current_city = next_city\n",
        "\n",
        "        # Calculate the total cost of the tour\n",
        "        total_cost = 0\n",
        "        for i in range(len(tour)-1):\n",
        "            current_city = tour[i]\n",
        "            next_city = tour[i+1]\n",
        "            if current_city not in graph or next_city not in graph[current_city]:\n",
        "                # Skip this pair of cities if there is no edge between them\n",
        "                continue\n",
        "            total_cost += graph[current_city][next_city]['cost']\n",
        "\n",
        "        # Add the tour and its cost to the population\n",
        "        population.append({'tour': tour, 'cost': total_cost})\n",
        "\n",
        "    return population\n",
        "\n",
        "\n",
        "population_size = 10\n",
        "initial_population = generate_population(graph, population_size)\n",
        "print(initial_population)\n",
        "\n"
      ],
      "metadata": {
        "colab": {
          "base_uri": "https://localhost:8080/"
        },
        "id": "b1VFhBFNSWn0",
        "outputId": "2f90a70f-7621-455f-adcb-a4e59a92e1b1"
      },
      "execution_count": 78,
      "outputs": [
        {
          "output_type": "stream",
          "name": "stdout",
          "text": [
            "[{'tour': ['Frankfurt', 'Berlin', 'Amsterdam', 'Brussels', 'London', 'Paris', 'Lyon', 'Milan', 'Rome', 'Milan', 'Rome', 'Milan', 'Rome', 'Milan', 'Rome', 'Milan', 'Lyon', 'Barcelona', 'Madrid', 'Paris', 'Brussels', 'London', 'Brussels', 'Amsterdam', 'Cologne'], 'cost': 3311}, {'tour': ['Paris', 'Barcelona', 'Lyon', 'Milan', 'Frankfurt', 'Cologne', 'Amsterdam', 'Berlin', 'Frankfurt', 'Milan', 'Rome', 'Milan', 'Frankfurt', 'Cologne', 'Frankfurt', 'Milan', 'Rome', 'Milan', 'Frankfurt', 'Berlin', 'Amsterdam', 'Brussels', 'London', 'Paris', 'Madrid'], 'cost': 4104}, {'tour': ['Rome', 'Milan', 'Frankfurt', 'Cologne', 'Amsterdam', 'Berlin', 'Frankfurt', 'Paris', 'Madrid', 'Barcelona', 'Lyon', 'Milan', 'Lyon', 'Milan', 'Lyon', 'Milan', 'Rome', 'Milan', 'Frankfurt', 'Cologne', 'Amsterdam', 'Brussels', 'London'], 'cost': 3564}, {'tour': ['Frankfurt', 'Cologne', 'Amsterdam', 'Brussels', 'London', 'Paris', 'Madrid', 'Barcelona', 'Lyon', 'Milan', 'Rome', 'Milan', 'Lyon', 'Paris', 'Brussels', 'London', 'Paris', 'London', 'Brussels', 'London', 'Paris', 'Brussels', 'Amsterdam', 'Berlin'], 'cost': 2948}, {'tour': ['Paris', 'Frankfurt', 'Milan', 'Lyon', 'Barcelona', 'Madrid', 'Paris', 'Brussels', 'Amsterdam', 'Cologne', 'Amsterdam', 'Berlin', 'Amsterdam', 'Berlin', 'Amsterdam', 'Brussels', 'London', 'Brussels', 'Amsterdam', 'Berlin', 'Frankfurt', 'Cologne', 'Amsterdam', 'Brussels', 'Amsterdam', 'Berlin', 'Frankfurt', 'Berlin', 'Amsterdam', 'Cologne', 'Frankfurt', 'Cologne', 'Amsterdam', 'Cologne', 'Amsterdam', 'Brussels', 'London', 'Paris', 'Brussels', 'Paris', 'Barcelona', 'Paris', 'London', 'Brussels', 'London', 'Paris', 'Madrid', 'Barcelona', 'Paris', 'Lyon', 'Milan', 'Rome'], 'cost': 7463}, {'tour': ['Frankfurt', 'Berlin', 'Amsterdam', 'Cologne', 'Amsterdam', 'Brussels', 'London', 'Paris', 'Lyon', 'Barcelona', 'Madrid', 'Paris', 'London', 'Brussels', 'Amsterdam', 'Brussels', 'London', 'Paris', 'London', 'Brussels', 'Paris', 'Madrid', 'Paris', 'Frankfurt', 'Milan', 'Rome'], 'cost': 3901}, {'tour': ['Milan', 'Lyon', 'Paris', 'London', 'Brussels', 'Amsterdam', 'Berlin', 'Frankfurt', 'Cologne', 'Amsterdam', 'Berlin', 'Amsterdam', 'Cologne', 'Amsterdam', 'Cologne', 'Frankfurt', 'Cologne', 'Amsterdam', 'Cologne', 'Frankfurt', 'Milan', 'Rome', 'Milan', 'Rome', 'Milan', 'Frankfurt', 'Paris', 'Barcelona', 'Madrid'], 'cost': 3662}, {'tour': ['Berlin', 'Frankfurt', 'Cologne', 'Amsterdam', 'Brussels', 'Paris', 'London', 'Paris', 'Barcelona', 'Madrid', 'Paris', 'Lyon', 'Milan', 'Rome'], 'cost': 1897}, {'tour': ['Milan', 'Rome', 'Milan', 'Lyon', 'Paris', 'London', 'Brussels', 'Amsterdam', 'Berlin', 'Frankfurt', 'Cologne', 'Amsterdam', 'Berlin', 'Amsterdam', 'Cologne', 'Frankfurt', 'Cologne', 'Frankfurt', 'Paris', 'Madrid', 'Barcelona'], 'cost': 2752}, {'tour': ['Madrid', 'Paris', 'Brussels', 'Amsterdam', 'Cologne', 'Frankfurt', 'Milan', 'Lyon', 'Barcelona', 'Paris', 'London', 'Paris', 'Frankfurt', 'Berlin', 'Frankfurt', 'Milan', 'Rome'], 'cost': 2884}]\n"
          ]
        }
      ]
    },
    {
      "cell_type": "code",
      "source": [
        "def evaluate_solution(solution, graph):\n",
        "    # Find the tour with the lowest cost\n",
        "    best_tour = None\n",
        "    best_cost = float('inf')\n",
        "    for tour in solution:\n",
        "        if tour['cost'] < best_cost:\n",
        "            best_tour = tour['tour']\n",
        "            best_cost = tour['cost']\n",
        "\n",
        "    # Check if the best tour can be completed within 72 hours\n",
        "    time_spent = 0\n",
        "    for i in range(len(best_tour)-1):\n",
        "        current_city = best_tour[i]\n",
        "        next_city = best_tour[i+1]\n",
        "        if current_city not in graph or next_city not in graph[current_city]:\n",
        "            # Skip this pair of cities if there is no edge between them\n",
        "            continue\n",
        "        time_spent += graph[current_city][next_city]['time']\n",
        "    if time_spent <= 72:\n",
        "        return best_cost\n",
        "    else:\n",
        "        return float('inf')\n",
        "\n",
        "\n",
        "population_size = 10\n",
        "initial_population = generate_population(graph, population_size)\n",
        "print(initial_population)\n",
        "\n",
        "# Evaluate the initial population\n",
        "fitness_scores = []\n",
        "for solution in initial_population:\n",
        "    fitness_scores.append(evaluate_solution([solution], graph))\n",
        "print(fitness_scores)"
      ],
      "metadata": {
        "colab": {
          "base_uri": "https://localhost:8080/"
        },
        "id": "3nt1Bb_kScJO",
        "outputId": "5949832c-ad3f-4e3d-dee3-9513bc37cf0f"
      },
      "execution_count": 128,
      "outputs": [
        {
          "output_type": "stream",
          "name": "stdout",
          "text": [
            "[{'tour': ['Barcelona', 'Lyon', 'Paris', 'Frankfurt', 'Berlin', 'Amsterdam', 'Cologne', 'Amsterdam', 'Brussels', 'London', 'Brussels', 'Paris', 'Madrid', 'Barcelona', 'Lyon', 'Milan', 'Rome'], 'cost': 2717}, {'tour': ['Barcelona', 'Paris', 'London', 'Brussels', 'Amsterdam', 'Cologne', 'Frankfurt', 'Berlin', 'Amsterdam', 'Berlin', 'Amsterdam', 'Brussels', 'Amsterdam', 'Cologne', 'Frankfurt', 'Milan', 'Lyon', 'Barcelona', 'Madrid', 'Barcelona', 'Lyon', 'Milan', 'Rome'], 'cost': 3291}, {'tour': ['Lyon', 'Paris', 'Madrid', 'Barcelona', 'Lyon', 'Milan', 'Rome', 'Milan', 'Frankfurt', 'Cologne', 'Amsterdam', 'Berlin', 'Frankfurt', 'Berlin', 'Amsterdam', 'Brussels', 'London'], 'cost': 2599}, {'tour': ['Paris', 'Lyon', 'Barcelona', 'Madrid', 'Paris', 'Frankfurt', 'Milan', 'Rome', 'Milan', 'Frankfurt', 'Cologne', 'Amsterdam', 'Brussels', 'London', 'Brussels', 'Paris', 'London', 'Paris', 'London', 'Paris', 'Brussels', 'Paris', 'Barcelona', 'Paris', 'Frankfurt', 'Berlin'], 'cost': 4284}, {'tour': ['London', 'Brussels', 'Paris', 'Barcelona', 'Madrid', 'Paris', 'Lyon', 'Milan', 'Rome', 'Milan', 'Frankfurt', 'Cologne', 'Amsterdam', 'Berlin'], 'cost': 2226}, {'tour': ['Lyon', 'Paris', 'London', 'Brussels', 'Amsterdam', 'Cologne', 'Frankfurt', 'Milan', 'Rome', 'Milan', 'Frankfurt', 'Berlin', 'Frankfurt', 'Milan', 'Rome', 'Milan', 'Lyon', 'Barcelona', 'Madrid'], 'cost': 2577}, {'tour': ['Brussels', 'London', 'Paris', 'Madrid', 'Barcelona', 'Lyon', 'Milan', 'Frankfurt', 'Berlin', 'Amsterdam', 'Cologne', 'Frankfurt', 'Paris', 'Lyon', 'Barcelona', 'Lyon', 'Milan', 'Rome'], 'cost': 3329}, {'tour': ['Brussels', 'Paris', 'Madrid', 'Barcelona', 'Lyon', 'Milan', 'Rome', 'Milan', 'Frankfurt', 'Cologne', 'Amsterdam', 'Berlin', 'Frankfurt', 'Berlin', 'Amsterdam', 'Brussels', 'London'], 'cost': 2494}, {'tour': ['Rome', 'Milan', 'Frankfurt', 'Paris', 'Lyon', 'Barcelona', 'Madrid', 'Paris', 'London', 'Brussels', 'Amsterdam', 'Berlin', 'Amsterdam', 'Cologne'], 'cost': 2447}, {'tour': ['Barcelona', 'Madrid', 'Paris', 'Lyon', 'Milan', 'Frankfurt', 'Cologne', 'Amsterdam', 'Brussels', 'London', 'Paris', 'Brussels', 'Amsterdam', 'Berlin', 'Frankfurt', 'Milan', 'Rome'], 'cost': 2260}]\n",
            "[2717, inf, 2599, inf, 2226, 2577, 3329, 2494, 2447, 2260]\n"
          ]
        }
      ]
    },
    {
      "cell_type": "code",
      "source": [
        "def crossover(parent_1, parent_2):\n",
        "    # Choose a random crossover point\n",
        "    crossover_point = random.randint(0, len(parent_1) - 1)\n",
        "\n",
        "    # Create the child\n",
        "    child = parent_1[:crossover_point]\n",
        "    remaining_cities = [city for city in parent_2 if city not in child]\n",
        "\n",
        "    # Add the remaining cities in order\n",
        "    child += remaining_cities\n",
        "\n",
        "    return child\n",
        "\n",
        "\n",
        "def mutate(solution, mutation_rate):\n",
        "    # Swap two cities in the solution with probability mutation_rate\n",
        "    if random.random() < mutation_rate:\n",
        "        # Choose the cities to swap\n",
        "        city_1, city_2 = random.sample(range(len(solution)), 2)\n",
        "        # Swap the cities\n",
        "        solution[city_1], solution[city_2] = solution[city_2], solution[city_1]\n",
        "\n",
        "    return solution\n"
      ],
      "metadata": {
        "id": "tMCL0DkMy3KS"
      },
      "execution_count": 90,
      "outputs": []
    },
    {
      "cell_type": "code",
      "source": [
        "def create_next_generation(population, graph, elitism, mutation_rate):\n",
        "    # Sort the population by fitness\n",
        "    population = sorted(population, key=lambda x: evaluate_solution(x, graph)[0])\n",
        "\n",
        "    # Keep the top solutions based on the elitism factor\n",
        "    elites = population[:int(elitism * len(population))]\n",
        "\n",
        "    # Generate the rest of the population through crossover and mutation\n",
        "    new_population = elites[:]\n",
        "    while len(new_population) < len(population):\n",
        "        # Choose two parents from the current population\n",
        "        parent_1, parent_2 = random.sample(population, 2)\n",
        "\n",
        "        # Create a child through crossover\n",
        "        child = crossover(parent_1, parent_2)\n",
        "\n",
        "        # Mutate the child\n",
        "        child = mutate(child, mutation_rate)\n",
        "\n",
        "        new_population.append(child)\n",
        "\n",
        "    return new_population\n"
      ],
      "metadata": {
        "id": "nAmgDrxCy4Ht"
      },
      "execution_count": 91,
      "outputs": []
    },
    {
      "cell_type": "code",
      "source": [
        "elitism = 0.2\n",
        "mutation_rate = 0.1\n",
        "next_generation = create_next_generation(initial_population, graph, elitism, mutation_rate)\n"
      ],
      "metadata": {
        "colab": {
          "base_uri": "https://localhost:8080/",
          "height": 562
        },
        "id": "hp9w5rx2y6SS",
        "outputId": "6c67487c-fd4b-4cbf-cbea-74235401cf6f"
      },
      "execution_count": 92,
      "outputs": [
        {
          "output_type": "error",
          "ename": "TypeError",
          "evalue": "ignored",
          "traceback": [
            "\u001b[0;31m---------------------------------------------------------------------------\u001b[0m",
            "\u001b[0;31mTypeError\u001b[0m                                 Traceback (most recent call last)",
            "\u001b[0;32m<ipython-input-92-edab1c80899d>\u001b[0m in \u001b[0;36m<cell line: 3>\u001b[0;34m()\u001b[0m\n\u001b[1;32m      1\u001b[0m \u001b[0melitism\u001b[0m \u001b[0;34m=\u001b[0m \u001b[0;36m0.2\u001b[0m\u001b[0;34m\u001b[0m\u001b[0;34m\u001b[0m\u001b[0m\n\u001b[1;32m      2\u001b[0m \u001b[0mmutation_rate\u001b[0m \u001b[0;34m=\u001b[0m \u001b[0;36m0.1\u001b[0m\u001b[0;34m\u001b[0m\u001b[0;34m\u001b[0m\u001b[0m\n\u001b[0;32m----> 3\u001b[0;31m \u001b[0mnext_generation\u001b[0m \u001b[0;34m=\u001b[0m \u001b[0mcreate_next_generation\u001b[0m\u001b[0;34m(\u001b[0m\u001b[0minitial_population\u001b[0m\u001b[0;34m,\u001b[0m \u001b[0mgraph\u001b[0m\u001b[0;34m,\u001b[0m \u001b[0melitism\u001b[0m\u001b[0;34m,\u001b[0m \u001b[0mmutation_rate\u001b[0m\u001b[0;34m)\u001b[0m\u001b[0;34m\u001b[0m\u001b[0;34m\u001b[0m\u001b[0m\n\u001b[0m",
            "\u001b[0;32m<ipython-input-91-55e34767dd14>\u001b[0m in \u001b[0;36mcreate_next_generation\u001b[0;34m(population, graph, elitism, mutation_rate)\u001b[0m\n\u001b[1;32m      1\u001b[0m \u001b[0;32mdef\u001b[0m \u001b[0mcreate_next_generation\u001b[0m\u001b[0;34m(\u001b[0m\u001b[0mpopulation\u001b[0m\u001b[0;34m,\u001b[0m \u001b[0mgraph\u001b[0m\u001b[0;34m,\u001b[0m \u001b[0melitism\u001b[0m\u001b[0;34m,\u001b[0m \u001b[0mmutation_rate\u001b[0m\u001b[0;34m)\u001b[0m\u001b[0;34m:\u001b[0m\u001b[0;34m\u001b[0m\u001b[0;34m\u001b[0m\u001b[0m\n\u001b[1;32m      2\u001b[0m     \u001b[0;31m# Sort the population by fitness\u001b[0m\u001b[0;34m\u001b[0m\u001b[0;34m\u001b[0m\u001b[0m\n\u001b[0;32m----> 3\u001b[0;31m     \u001b[0mpopulation\u001b[0m \u001b[0;34m=\u001b[0m \u001b[0msorted\u001b[0m\u001b[0;34m(\u001b[0m\u001b[0mpopulation\u001b[0m\u001b[0;34m,\u001b[0m \u001b[0mkey\u001b[0m\u001b[0;34m=\u001b[0m\u001b[0;32mlambda\u001b[0m \u001b[0mx\u001b[0m\u001b[0;34m:\u001b[0m \u001b[0mevaluate_solution\u001b[0m\u001b[0;34m(\u001b[0m\u001b[0mx\u001b[0m\u001b[0;34m,\u001b[0m \u001b[0mgraph\u001b[0m\u001b[0;34m)\u001b[0m\u001b[0;34m[\u001b[0m\u001b[0;36m0\u001b[0m\u001b[0;34m]\u001b[0m\u001b[0;34m)\u001b[0m\u001b[0;34m\u001b[0m\u001b[0;34m\u001b[0m\u001b[0m\n\u001b[0m\u001b[1;32m      4\u001b[0m \u001b[0;34m\u001b[0m\u001b[0m\n\u001b[1;32m      5\u001b[0m     \u001b[0;31m# Keep the top solutions based on the elitism factor\u001b[0m\u001b[0;34m\u001b[0m\u001b[0;34m\u001b[0m\u001b[0m\n",
            "\u001b[0;32m<ipython-input-91-55e34767dd14>\u001b[0m in \u001b[0;36m<lambda>\u001b[0;34m(x)\u001b[0m\n\u001b[1;32m      1\u001b[0m \u001b[0;32mdef\u001b[0m \u001b[0mcreate_next_generation\u001b[0m\u001b[0;34m(\u001b[0m\u001b[0mpopulation\u001b[0m\u001b[0;34m,\u001b[0m \u001b[0mgraph\u001b[0m\u001b[0;34m,\u001b[0m \u001b[0melitism\u001b[0m\u001b[0;34m,\u001b[0m \u001b[0mmutation_rate\u001b[0m\u001b[0;34m)\u001b[0m\u001b[0;34m:\u001b[0m\u001b[0;34m\u001b[0m\u001b[0;34m\u001b[0m\u001b[0m\n\u001b[1;32m      2\u001b[0m     \u001b[0;31m# Sort the population by fitness\u001b[0m\u001b[0;34m\u001b[0m\u001b[0;34m\u001b[0m\u001b[0m\n\u001b[0;32m----> 3\u001b[0;31m     \u001b[0mpopulation\u001b[0m \u001b[0;34m=\u001b[0m \u001b[0msorted\u001b[0m\u001b[0;34m(\u001b[0m\u001b[0mpopulation\u001b[0m\u001b[0;34m,\u001b[0m \u001b[0mkey\u001b[0m\u001b[0;34m=\u001b[0m\u001b[0;32mlambda\u001b[0m \u001b[0mx\u001b[0m\u001b[0;34m:\u001b[0m \u001b[0mevaluate_solution\u001b[0m\u001b[0;34m(\u001b[0m\u001b[0mx\u001b[0m\u001b[0;34m,\u001b[0m \u001b[0mgraph\u001b[0m\u001b[0;34m)\u001b[0m\u001b[0;34m[\u001b[0m\u001b[0;36m0\u001b[0m\u001b[0;34m]\u001b[0m\u001b[0;34m)\u001b[0m\u001b[0;34m\u001b[0m\u001b[0;34m\u001b[0m\u001b[0m\n\u001b[0m\u001b[1;32m      4\u001b[0m \u001b[0;34m\u001b[0m\u001b[0m\n\u001b[1;32m      5\u001b[0m     \u001b[0;31m# Keep the top solutions based on the elitism factor\u001b[0m\u001b[0;34m\u001b[0m\u001b[0;34m\u001b[0m\u001b[0m\n",
            "\u001b[0;32m<ipython-input-89-996aa945ad48>\u001b[0m in \u001b[0;36mevaluate_solution\u001b[0;34m(solution, graph)\u001b[0m\n\u001b[1;32m      4\u001b[0m     \u001b[0mbest_cost\u001b[0m \u001b[0;34m=\u001b[0m \u001b[0mfloat\u001b[0m\u001b[0;34m(\u001b[0m\u001b[0;34m'inf'\u001b[0m\u001b[0;34m)\u001b[0m\u001b[0;34m\u001b[0m\u001b[0;34m\u001b[0m\u001b[0m\n\u001b[1;32m      5\u001b[0m     \u001b[0;32mfor\u001b[0m \u001b[0mtour\u001b[0m \u001b[0;32min\u001b[0m \u001b[0msolution\u001b[0m\u001b[0;34m:\u001b[0m\u001b[0;34m\u001b[0m\u001b[0;34m\u001b[0m\u001b[0m\n\u001b[0;32m----> 6\u001b[0;31m         \u001b[0;32mif\u001b[0m \u001b[0mtour\u001b[0m\u001b[0;34m[\u001b[0m\u001b[0;34m'cost'\u001b[0m\u001b[0;34m]\u001b[0m \u001b[0;34m<\u001b[0m \u001b[0mbest_cost\u001b[0m\u001b[0;34m:\u001b[0m\u001b[0;34m\u001b[0m\u001b[0;34m\u001b[0m\u001b[0m\n\u001b[0m\u001b[1;32m      7\u001b[0m             \u001b[0mbest_tour\u001b[0m \u001b[0;34m=\u001b[0m \u001b[0mtour\u001b[0m\u001b[0;34m[\u001b[0m\u001b[0;34m'tour'\u001b[0m\u001b[0;34m]\u001b[0m\u001b[0;34m\u001b[0m\u001b[0;34m\u001b[0m\u001b[0m\n\u001b[1;32m      8\u001b[0m             \u001b[0mbest_cost\u001b[0m \u001b[0;34m=\u001b[0m \u001b[0mtour\u001b[0m\u001b[0;34m[\u001b[0m\u001b[0;34m'cost'\u001b[0m\u001b[0;34m]\u001b[0m\u001b[0;34m\u001b[0m\u001b[0;34m\u001b[0m\u001b[0m\n",
            "\u001b[0;31mTypeError\u001b[0m: string indices must be integers"
          ]
        }
      ]
    }
  ]
}